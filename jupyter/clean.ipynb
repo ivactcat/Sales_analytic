{
 "cells": [
  {
   "cell_type": "markdown",
   "metadata": {},
   "source": [
    "DATA PRE-ANALYSIS AND DATA CLEANSING TEST"
   ]
  },
  {
   "cell_type": "code",
   "execution_count": 64,
   "metadata": {},
   "outputs": [],
   "source": [
    "#IMPORT LIBRARY\n",
    "import pandas as pd\n",
    "import numpy as np \n",
    "\n",
    "# set options, show all the columns\n",
    "pd. set_option(\"display.max_columns\", None)"
   ]
  },
  {
   "cell_type": "code",
   "execution_count": 65,
   "metadata": {},
   "outputs": [],
   "source": [
    "#Read file\n",
    "\n",
    "df_raw= pd.read_parquet(\"../data_raw//iowa_liquor_sales_2019.parquet\")"
   ]
  },
  {
   "cell_type": "code",
   "execution_count": 66,
   "metadata": {},
   "outputs": [
    {
     "data": {
      "text/html": [
       "<div>\n",
       "<style scoped>\n",
       "    .dataframe tbody tr th:only-of-type {\n",
       "        vertical-align: middle;\n",
       "    }\n",
       "\n",
       "    .dataframe tbody tr th {\n",
       "        vertical-align: top;\n",
       "    }\n",
       "\n",
       "    .dataframe thead th {\n",
       "        text-align: right;\n",
       "    }\n",
       "</style>\n",
       "<table border=\"1\" class=\"dataframe\">\n",
       "  <thead>\n",
       "    <tr style=\"text-align: right;\">\n",
       "      <th></th>\n",
       "      <th>Invoice/Item Number</th>\n",
       "      <th>Date</th>\n",
       "      <th>Store Number</th>\n",
       "      <th>Store Name</th>\n",
       "      <th>Store Location</th>\n",
       "      <th>County Number</th>\n",
       "      <th>County</th>\n",
       "      <th>Category</th>\n",
       "      <th>Category Name</th>\n",
       "      <th>Vendor Number</th>\n",
       "      <th>Vendor Name</th>\n",
       "      <th>Item Number</th>\n",
       "      <th>Item Description</th>\n",
       "      <th>Pack</th>\n",
       "      <th>Bottle Volume (ml)</th>\n",
       "      <th>State Bottle Cost</th>\n",
       "      <th>State Bottle Retail</th>\n",
       "      <th>Bottles Sold</th>\n",
       "      <th>Sale (Dollars)</th>\n",
       "      <th>Volume Sold (Gallons)</th>\n",
       "    </tr>\n",
       "  </thead>\n",
       "  <tbody>\n",
       "    <tr>\n",
       "      <th>102</th>\n",
       "      <td>S08792800017</td>\n",
       "      <td>11/06/2019</td>\n",
       "      <td>2459</td>\n",
       "      <td>Reinhart Foods</td>\n",
       "      <td>200 STATE PO BOX 98\\nGUTHRIE CENTER 50115\\n</td>\n",
       "      <td>39.0</td>\n",
       "      <td>Guthrie</td>\n",
       "      <td>1062300.0</td>\n",
       "      <td>FLAVORED RUM</td>\n",
       "      <td>65.0</td>\n",
       "      <td>Jim Beam Brands</td>\n",
       "      <td>44499</td>\n",
       "      <td>Cruzan Mango Rum</td>\n",
       "      <td>12</td>\n",
       "      <td>750</td>\n",
       "      <td>$6.82</td>\n",
       "      <td>$10.24</td>\n",
       "      <td>3</td>\n",
       "      <td>$30.72</td>\n",
       "      <td>0.59</td>\n",
       "    </tr>\n",
       "    <tr>\n",
       "      <th>103</th>\n",
       "      <td>S04854100048</td>\n",
       "      <td>04/03/2019</td>\n",
       "      <td>2487</td>\n",
       "      <td>Anamosa Family Foods</td>\n",
       "      <td>402 EAST MAIN\\nANAMOSA 52205\\n(42.108289, -91....</td>\n",
       "      <td>53.0</td>\n",
       "      <td>Jones</td>\n",
       "      <td>1081300.0</td>\n",
       "      <td>PEPPERMINT SCHNAPPS</td>\n",
       "      <td>434.0</td>\n",
       "      <td>Luxco-St Louis</td>\n",
       "      <td>80578</td>\n",
       "      <td>Arrow Peppermint Schnapps</td>\n",
       "      <td>6</td>\n",
       "      <td>1750</td>\n",
       "      <td>$7.04</td>\n",
       "      <td>$10.56</td>\n",
       "      <td>3</td>\n",
       "      <td>$31.68</td>\n",
       "      <td>1.39</td>\n",
       "    </tr>\n",
       "    <tr>\n",
       "      <th>106</th>\n",
       "      <td>S08900500035</td>\n",
       "      <td>11/13/2019</td>\n",
       "      <td>4509</td>\n",
       "      <td>A J'S LIQUOR II</td>\n",
       "      <td>2515 CHAMBERLAIN\\nAMES 50010\\n(42.02146, -93.6...</td>\n",
       "      <td>85.0</td>\n",
       "      <td>Story</td>\n",
       "      <td>1081900.0</td>\n",
       "      <td>MISC. AMERICAN CORDIALS &amp; LIQUEURS</td>\n",
       "      <td>322.0</td>\n",
       "      <td>Prestige Wine and Spirits Group</td>\n",
       "      <td>75210</td>\n",
       "      <td>Kinky Liqueur</td>\n",
       "      <td>6</td>\n",
       "      <td>750</td>\n",
       "      <td>$10.00</td>\n",
       "      <td>$15.00</td>\n",
       "      <td>12</td>\n",
       "      <td>$180.00</td>\n",
       "      <td>2.38</td>\n",
       "    </tr>\n",
       "    <tr>\n",
       "      <th>110</th>\n",
       "      <td>S06855800032</td>\n",
       "      <td>07/31/2019</td>\n",
       "      <td>2522</td>\n",
       "      <td>Hy-Vee Wine and Spirits / Spirit Lak</td>\n",
       "      <td>HWY 9 &amp;amp; 71\\nSPIRIT LAKE 51360\\n</td>\n",
       "      <td>30.0</td>\n",
       "      <td>Dickinson</td>\n",
       "      <td>1062200.0</td>\n",
       "      <td>PUERTO RICO &amp; VIRGIN ISLANDS RUM</td>\n",
       "      <td>35.0</td>\n",
       "      <td>Bacardi U.S.A., Inc.</td>\n",
       "      <td>43125</td>\n",
       "      <td>Bacardi Superior Rum Pet</td>\n",
       "      <td>12</td>\n",
       "      <td>750</td>\n",
       "      <td>$7.53</td>\n",
       "      <td>$11.30</td>\n",
       "      <td>12</td>\n",
       "      <td>$135.60</td>\n",
       "      <td>2.38</td>\n",
       "    </tr>\n",
       "    <tr>\n",
       "      <th>113</th>\n",
       "      <td>S08372100023</td>\n",
       "      <td>10/16/2019</td>\n",
       "      <td>3816</td>\n",
       "      <td>Swils</td>\n",
       "      <td>200 E OAK ST\\nRED OAK 51566\\n(41.016691, -95.2...</td>\n",
       "      <td>69.0</td>\n",
       "      <td>Montgomery</td>\n",
       "      <td>1031200.0</td>\n",
       "      <td>VODKA FLAVORED</td>\n",
       "      <td>380.0</td>\n",
       "      <td>Phillips Beverage Company</td>\n",
       "      <td>41693</td>\n",
       "      <td>Uv Blue (raspberry) Vodka</td>\n",
       "      <td>12</td>\n",
       "      <td>750</td>\n",
       "      <td>$6.25</td>\n",
       "      <td>$9.49</td>\n",
       "      <td>12</td>\n",
       "      <td>$113.88</td>\n",
       "      <td>2.38</td>\n",
       "    </tr>\n",
       "  </tbody>\n",
       "</table>\n",
       "</div>"
      ],
      "text/plain": [
       "    Invoice/Item Number        Date  Store Number  \\\n",
       "102        S08792800017  11/06/2019          2459   \n",
       "103        S04854100048  04/03/2019          2487   \n",
       "106        S08900500035  11/13/2019          4509   \n",
       "110        S06855800032  07/31/2019          2522   \n",
       "113        S08372100023  10/16/2019          3816   \n",
       "\n",
       "                               Store Name  \\\n",
       "102                        Reinhart Foods   \n",
       "103                  Anamosa Family Foods   \n",
       "106                       A J'S LIQUOR II   \n",
       "110  Hy-Vee Wine and Spirits / Spirit Lak   \n",
       "113                                 Swils   \n",
       "\n",
       "                                        Store Location  County Number  \\\n",
       "102        200 STATE PO BOX 98\\nGUTHRIE CENTER 50115\\n           39.0   \n",
       "103  402 EAST MAIN\\nANAMOSA 52205\\n(42.108289, -91....           53.0   \n",
       "106  2515 CHAMBERLAIN\\nAMES 50010\\n(42.02146, -93.6...           85.0   \n",
       "110                HWY 9 &amp; 71\\nSPIRIT LAKE 51360\\n           30.0   \n",
       "113  200 E OAK ST\\nRED OAK 51566\\n(41.016691, -95.2...           69.0   \n",
       "\n",
       "         County   Category                       Category Name  Vendor Number  \\\n",
       "102     Guthrie  1062300.0                        FLAVORED RUM           65.0   \n",
       "103       Jones  1081300.0                 PEPPERMINT SCHNAPPS          434.0   \n",
       "106       Story  1081900.0  MISC. AMERICAN CORDIALS & LIQUEURS          322.0   \n",
       "110   Dickinson  1062200.0    PUERTO RICO & VIRGIN ISLANDS RUM           35.0   \n",
       "113  Montgomery  1031200.0                      VODKA FLAVORED          380.0   \n",
       "\n",
       "                         Vendor Name  Item Number           Item Description  \\\n",
       "102                  Jim Beam Brands        44499           Cruzan Mango Rum   \n",
       "103                   Luxco-St Louis        80578  Arrow Peppermint Schnapps   \n",
       "106  Prestige Wine and Spirits Group        75210              Kinky Liqueur   \n",
       "110             Bacardi U.S.A., Inc.        43125   Bacardi Superior Rum Pet   \n",
       "113        Phillips Beverage Company        41693  Uv Blue (raspberry) Vodka   \n",
       "\n",
       "     Pack  Bottle Volume (ml) State Bottle Cost State Bottle Retail  \\\n",
       "102    12                 750             $6.82              $10.24   \n",
       "103     6                1750             $7.04              $10.56   \n",
       "106     6                 750            $10.00              $15.00   \n",
       "110    12                 750             $7.53              $11.30   \n",
       "113    12                 750             $6.25               $9.49   \n",
       "\n",
       "     Bottles Sold Sale (Dollars)  Volume Sold (Gallons)  \n",
       "102             3         $30.72                   0.59  \n",
       "103             3         $31.68                   1.39  \n",
       "106            12        $180.00                   2.38  \n",
       "110            12        $135.60                   2.38  \n",
       "113            12        $113.88                   2.38  "
      ]
     },
     "execution_count": 66,
     "metadata": {},
     "output_type": "execute_result"
    }
   ],
   "source": [
    "df_raw.head()"
   ]
  },
  {
   "cell_type": "code",
   "execution_count": 67,
   "metadata": {},
   "outputs": [
    {
     "data": {
      "text/plain": [
       "(2073616, 20)"
      ]
     },
     "execution_count": 67,
     "metadata": {},
     "output_type": "execute_result"
    }
   ],
   "source": [
    "df_raw.shape"
   ]
  },
  {
   "cell_type": "code",
   "execution_count": 68,
   "metadata": {},
   "outputs": [],
   "source": [
    "# copy\n",
    "df=df_raw.copy()"
   ]
  },
  {
   "cell_type": "code",
   "execution_count": 69,
   "metadata": {},
   "outputs": [
    {
     "data": {
      "text/html": [
       "<div>\n",
       "<style scoped>\n",
       "    .dataframe tbody tr th:only-of-type {\n",
       "        vertical-align: middle;\n",
       "    }\n",
       "\n",
       "    .dataframe tbody tr th {\n",
       "        vertical-align: top;\n",
       "    }\n",
       "\n",
       "    .dataframe thead th {\n",
       "        text-align: right;\n",
       "    }\n",
       "</style>\n",
       "<table border=\"1\" class=\"dataframe\">\n",
       "  <thead>\n",
       "    <tr style=\"text-align: right;\">\n",
       "      <th></th>\n",
       "      <th>invoice/item_number</th>\n",
       "      <th>date</th>\n",
       "      <th>store_number</th>\n",
       "      <th>store_name</th>\n",
       "      <th>store_location</th>\n",
       "      <th>county_number</th>\n",
       "      <th>county</th>\n",
       "      <th>category</th>\n",
       "      <th>category_name</th>\n",
       "      <th>vendor_number</th>\n",
       "      <th>vendor_name</th>\n",
       "      <th>item_number</th>\n",
       "      <th>item_description</th>\n",
       "      <th>pack</th>\n",
       "      <th>bottle_volume(ml)</th>\n",
       "      <th>state_bottle_cost</th>\n",
       "      <th>state_bottle_retail</th>\n",
       "      <th>bottles_sold</th>\n",
       "      <th>sale(dollars)</th>\n",
       "      <th>volume_sold(gallons)</th>\n",
       "    </tr>\n",
       "  </thead>\n",
       "  <tbody>\n",
       "    <tr>\n",
       "      <th>2094639</th>\n",
       "      <td>S07588100020</td>\n",
       "      <td>09/06/2019</td>\n",
       "      <td>2567</td>\n",
       "      <td>Hy-Vee Drugstore / Davenport</td>\n",
       "      <td>2200 WEST KIMBERLY\\nDAVENPORT 52806\\n(41.56015...</td>\n",
       "      <td>82.0</td>\n",
       "      <td>Scott</td>\n",
       "      <td>1081200.0</td>\n",
       "      <td>CREAM LIQUEURS</td>\n",
       "      <td>305.0</td>\n",
       "      <td>MHW Ltd</td>\n",
       "      <td>73052</td>\n",
       "      <td>Rumchata</td>\n",
       "      <td>12</td>\n",
       "      <td>375</td>\n",
       "      <td>$7.41</td>\n",
       "      <td>$11.12</td>\n",
       "      <td>12</td>\n",
       "      <td>$133.44</td>\n",
       "      <td>1.19</td>\n",
       "    </tr>\n",
       "  </tbody>\n",
       "</table>\n",
       "</div>"
      ],
      "text/plain": [
       "        invoice/item_number        date  store_number  \\\n",
       "2094639        S07588100020  09/06/2019          2567   \n",
       "\n",
       "                           store_name  \\\n",
       "2094639  Hy-Vee Drugstore / Davenport   \n",
       "\n",
       "                                            store_location  county_number  \\\n",
       "2094639  2200 WEST KIMBERLY\\nDAVENPORT 52806\\n(41.56015...           82.0   \n",
       "\n",
       "        county   category   category_name  vendor_number vendor_name  \\\n",
       "2094639  Scott  1081200.0  CREAM LIQUEURS          305.0     MHW Ltd   \n",
       "\n",
       "         item_number item_description  pack  bottle_volume(ml)  \\\n",
       "2094639        73052         Rumchata    12                375   \n",
       "\n",
       "        state_bottle_cost state_bottle_retail  bottles_sold sale(dollars)  \\\n",
       "2094639             $7.41              $11.12            12       $133.44   \n",
       "\n",
       "         volume_sold(gallons)  \n",
       "2094639                  1.19  "
      ]
     },
     "execution_count": 69,
     "metadata": {},
     "output_type": "execute_result"
    }
   ],
   "source": [
    "# convert the name of the columns into snake_case\n",
    "df.columns= df.columns.str.replace(\" \", \"_\").str.lower().str.replace(\"_(\", \"(\")\n",
    "df.sample()"
   ]
  },
  {
   "cell_type": "code",
   "execution_count": 70,
   "metadata": {},
   "outputs": [
    {
     "name": "stdout",
     "output_type": "stream",
     "text": [
      "<class 'pandas.core.frame.DataFrame'>\n",
      "Index: 2073616 entries, 102 to 8197504\n",
      "Data columns (total 20 columns):\n",
      " #   Column                Dtype  \n",
      "---  ------                -----  \n",
      " 0   invoice/item_number   object \n",
      " 1   date                  object \n",
      " 2   store_number          int64  \n",
      " 3   store_name            object \n",
      " 4   store_location        object \n",
      " 5   county_number         float64\n",
      " 6   county                object \n",
      " 7   category              float64\n",
      " 8   category_name         object \n",
      " 9   vendor_number         float64\n",
      " 10  vendor_name           object \n",
      " 11  item_number           int64  \n",
      " 12  item_description      object \n",
      " 13  pack                  int64  \n",
      " 14  bottle_volume(ml)     int64  \n",
      " 15  state_bottle_cost     object \n",
      " 16  state_bottle_retail   object \n",
      " 17  bottles_sold          int64  \n",
      " 18  sale(dollars)         object \n",
      " 19  volume_sold(gallons)  float64\n",
      "dtypes: float64(4), int64(5), object(11)\n",
      "memory usage: 332.2+ MB\n"
     ]
    }
   ],
   "source": [
    "df.info()"
   ]
  },
  {
   "cell_type": "markdown",
   "metadata": {},
   "source": [
    "Data Transformation"
   ]
  },
  {
   "cell_type": "markdown",
   "metadata": {},
   "source": [
    "data columns"
   ]
  },
  {
   "cell_type": "code",
   "execution_count": 71,
   "metadata": {},
   "outputs": [],
   "source": [
    "df[\"date\"]= pd.to_datetime(df[\"date\"],\n",
    "                          format=\"%m/%d/%Y\")"
   ]
  },
  {
   "cell_type": "markdown",
   "metadata": {},
   "source": [
    "float to integer column"
   ]
  },
  {
   "cell_type": "code",
   "execution_count": 72,
   "metadata": {},
   "outputs": [],
   "source": [
    "#changes name to the column category\n",
    "df[\"category_number\"]=df[\"category\"]\n",
    "df.drop(columns=\"category\",\n",
    "        inplace=True)"
   ]
  },
  {
   "cell_type": "code",
   "execution_count": 73,
   "metadata": {},
   "outputs": [
    {
     "data": {
      "text/plain": [
       "array([39., 53., 85., 30., 69., 57., 82., 96., 77., 31., 78., 52.,  9.,\n",
       "       64., 49., 29., 34., 48., 63., 75., 97., 22., 46., 91.,  7., 70.,\n",
       "       94., 10., 11., 56., 17., 71., 23., 50., 14., 67., 37., 86., 88.,\n",
       "       40., 59., 51., 33., nan, 38., 72., 16., 21., 42., 35.,  3., 47.,\n",
       "       90., 24.,  4., 95.,  6., 55., 20., 99., 32.,  5., 81., 45., 62.,\n",
       "       25., 83., 60., 54., 41., 18., 84., 92., 28., 93.,  1., 44., 13.,\n",
       "       58., 66.,  8., 15., 76., 79., 74., 19., 43., 12.,  2., 61., 73.,\n",
       "       80., 65., 68., 87., 27., 36., 98., 89., 26.])"
      ]
     },
     "execution_count": 73,
     "metadata": {},
     "output_type": "execute_result"
    }
   ],
   "source": [
    "df[\"county_number\"].unique()"
   ]
  },
  {
   "cell_type": "code",
   "execution_count": 74,
   "metadata": {},
   "outputs": [
    {
     "data": {
      "text/plain": [
       "array([ 65., 434., 322.,  35., 380., 260., 370., 192.,  55.,  85., 297.,\n",
       "       389., 115., 451., 305., 395., 255., 461., 330., 420., 259., 410.,\n",
       "       421., 885., 300., 205., 308., 240., 306., 357., 971., 294., 130.,\n",
       "       390., 969., 301., 125., 277., 375., 267., 384., 418., 394., 365.,\n",
       "       190., 285., 184., 338., 350., 492., 391., 198., 469.,  86., 160.,\n",
       "       460., 962., 377., 978., 483., 239., 977., 250., 497., 495., 346.,\n",
       "       399.,  89.,  10., 459., 295., 293., 154., 298., 158.,  91., 465.,\n",
       "       415., 503.,  79., 369., 363., 987., 143., 307., 185., 224., 109.,\n",
       "       211., 310., 379., 477.,  90., 108., 313.,  61., 278., 501., 251.,\n",
       "        80., 311., 482., 456., 137., 361., 475., 287., 488.,  27., 485.,\n",
       "       803.,  68., 432., 263., 155.,  69., 343., 161., 486.,  51.])"
      ]
     },
     "execution_count": 74,
     "metadata": {},
     "output_type": "execute_result"
    }
   ],
   "source": [
    "df[\"vendor_number\"].unique()"
   ]
  },
  {
   "cell_type": "markdown",
   "metadata": {},
   "source": [
    "I check that the values should be integral and not float. Transform into the column that we can that has no nulls."
   ]
  },
  {
   "cell_type": "code",
   "execution_count": 75,
   "metadata": {},
   "outputs": [],
   "source": [
    "#transform vendor_number because not have nulls\n",
    "df[\"vendor_number\"]= df[\"vendor_number\"].astype(int)"
   ]
  },
  {
   "cell_type": "code",
   "execution_count": 76,
   "metadata": {},
   "outputs": [
    {
     "data": {
      "text/plain": [
       "array([ 65, 434, 322,  35, 380, 260, 370, 192,  55,  85, 297, 389, 115,\n",
       "       451, 305, 395, 255, 461, 330, 420, 259, 410, 421, 885, 300, 205,\n",
       "       308, 240, 306, 357, 971, 294, 130, 390, 969, 301, 125, 277, 375,\n",
       "       267, 384, 418, 394, 365, 190, 285, 184, 338, 350, 492, 391, 198,\n",
       "       469,  86, 160, 460, 962, 377, 978, 483, 239, 977, 250, 497, 495,\n",
       "       346, 399,  89,  10, 459, 295, 293, 154, 298, 158,  91, 465, 415,\n",
       "       503,  79, 369, 363, 987, 143, 307, 185, 224, 109, 211, 310, 379,\n",
       "       477,  90, 108, 313,  61, 278, 501, 251,  80, 311, 482, 456, 137,\n",
       "       361, 475, 287, 488,  27, 485, 803,  68, 432, 263, 155,  69, 343,\n",
       "       161, 486,  51])"
      ]
     },
     "execution_count": 76,
     "metadata": {},
     "output_type": "execute_result"
    }
   ],
   "source": [
    "df[\"vendor_number\"].unique()"
   ]
  },
  {
   "cell_type": "markdown",
   "metadata": {},
   "source": [
    "Transform Price Values\n",
    "\n",
    "    -state_bottle_cost \n",
    "    -state_bottle_retail\n",
    "    -sale(dollars)"
   ]
  },
  {
   "cell_type": "code",
   "execution_count": null,
   "metadata": {},
   "outputs": [],
   "source": [
    "def dollars_float(dataframe,col):\n",
    "    dataframe[col]= dataframe[col].str.replace(\"$\",\"\").astype(float)\n",
    "    return dataframe\n"
   ]
  },
  {
   "cell_type": "code",
   "execution_count": 80,
   "metadata": {},
   "outputs": [],
   "source": [
    "list_col= [\"state_bottle_cost\", \"state_bottle_retail\",\"sale(dollars)\"]\n",
    "for col in list_col:\n",
    "    dollars_float(df, col)"
   ]
  },
  {
   "cell_type": "code",
   "execution_count": 81,
   "metadata": {},
   "outputs": [
    {
     "name": "stdout",
     "output_type": "stream",
     "text": [
      "<class 'pandas.core.frame.DataFrame'>\n",
      "Index: 2073616 entries, 102 to 8197504\n",
      "Data columns (total 20 columns):\n",
      " #   Column                Dtype         \n",
      "---  ------                -----         \n",
      " 0   invoice/item_number   object        \n",
      " 1   date                  datetime64[ns]\n",
      " 2   store_number          int64         \n",
      " 3   store_name            object        \n",
      " 4   store_location        object        \n",
      " 5   county_number         float64       \n",
      " 6   county                object        \n",
      " 7   category_name         object        \n",
      " 8   vendor_number         int64         \n",
      " 9   vendor_name           object        \n",
      " 10  item_number           int64         \n",
      " 11  item_description      object        \n",
      " 12  pack                  int64         \n",
      " 13  bottle_volume(ml)     int64         \n",
      " 14  state_bottle_cost     float64       \n",
      " 15  state_bottle_retail   float64       \n",
      " 16  bottles_sold          int64         \n",
      " 17  sale(dollars)         float64       \n",
      " 18  volume_sold(gallons)  float64       \n",
      " 19  category_number       float64       \n",
      "dtypes: datetime64[ns](1), float64(6), int64(6), object(7)\n",
      "memory usage: 332.2+ MB\n"
     ]
    }
   ],
   "source": [
    "df.info()"
   ]
  },
  {
   "cell_type": "markdown",
   "metadata": {},
   "source": [
    "Column decomposition store_location"
   ]
  },
  {
   "cell_type": "code",
   "execution_count": 85,
   "metadata": {},
   "outputs": [
    {
     "data": {
      "text/plain": [
       "'402 EAST MAIN\\nANAMOSA 52205\\n(42.108289, -91.281881)'"
      ]
     },
     "execution_count": 85,
     "metadata": {},
     "output_type": "execute_result"
    }
   ],
   "source": [
    "value_store_location= df[\"store_location\"].iloc[1]\n",
    "value_store_location"
   ]
  },
  {
   "cell_type": "code",
   "execution_count": 96,
   "metadata": {},
   "outputs": [],
   "source": [
    "address= value_store_location.split(\"\\n\")[0]\n",
    "city= value_store_location.split(\"\\n\")[1].split (\" \")\n",
    "Latitude= float(value_store_location.split(\"\\n\")[2].strip(\"()\").split(\",\")[0])\n",
    "longitude= float(value_store_location.split(\"\\n\")[2].strip(\"()\").split(\", \")[1])\n"
   ]
  },
  {
   "cell_type": "code",
   "execution_count": 99,
   "metadata": {},
   "outputs": [],
   "source": [
    "def extract_location(value):\n",
    "    try : \n",
    "        split_data=value.split(\"\\n\")\n",
    "        address = split_data[0]\n",
    "        city=split_data[1]\n",
    "        if len (split_data)> 2 and split_data[2].strip():\n",
    "            latitude,longitude= map(float, split_data[2].strip(\"()\").split(\", \"))\n",
    "        else: \n",
    "            latitude, longitude = None, None\n",
    "        return pd.Series([address, city, latitude, longitude])\n",
    "    except(IndexError,ValueError):\n",
    "        return pd.Series([None,None,None])"
   ]
  },
  {
   "cell_type": "code",
   "execution_count": 101,
   "metadata": {},
   "outputs": [
    {
     "name": "stdout",
     "output_type": "stream",
     "text": [
      "<class 'pandas.core.frame.DataFrame'>\n",
      "Index: 2073616 entries, 102 to 8197504\n",
      "Data columns (total 24 columns):\n",
      " #   Column                Dtype         \n",
      "---  ------                -----         \n",
      " 0   invoice/item_number   object        \n",
      " 1   date                  datetime64[ns]\n",
      " 2   store_number          int64         \n",
      " 3   store_name            object        \n",
      " 4   store_location        object        \n",
      " 5   county_number         float64       \n",
      " 6   county                object        \n",
      " 7   category_name         object        \n",
      " 8   vendor_number         int64         \n",
      " 9   vendor_name           object        \n",
      " 10  item_number           int64         \n",
      " 11  item_description      object        \n",
      " 12  pack                  int64         \n",
      " 13  bottle_volume(ml)     int64         \n",
      " 14  state_bottle_cost     float64       \n",
      " 15  state_bottle_retail   float64       \n",
      " 16  bottles_sold          int64         \n",
      " 17  sale(dollars)         float64       \n",
      " 18  volume_sold(gallons)  float64       \n",
      " 19  category_number       float64       \n",
      " 20  address               object        \n",
      " 21  city                  object        \n",
      " 22  Latitude              float64       \n",
      " 23  longitude             float64       \n",
      "dtypes: datetime64[ns](1), float64(8), int64(6), object(9)\n",
      "memory usage: 395.5+ MB\n"
     ]
    }
   ],
   "source": [
    "df.info()"
   ]
  },
  {
   "cell_type": "code",
   "execution_count": 100,
   "metadata": {},
   "outputs": [],
   "source": [
    "df[[\"address\",\n",
    "    \"city\",\n",
    "    \"Latitude\",\n",
    "    \"longitude\"]]= df[\"store_location\"].apply(extract_location)"
   ]
  },
  {
   "cell_type": "code",
   "execution_count": 105,
   "metadata": {},
   "outputs": [],
   "source": [
    "df.to_parquet(\"../data_transformation/dataset_cleaned.parquet\")"
   ]
  }
 ],
 "metadata": {
  "kernelspec": {
   "display_name": "venvSales",
   "language": "python",
   "name": "python3"
  },
  "language_info": {
   "codemirror_mode": {
    "name": "ipython",
    "version": 3
   },
   "file_extension": ".py",
   "mimetype": "text/x-python",
   "name": "python",
   "nbconvert_exporter": "python",
   "pygments_lexer": "ipython3",
   "version": "3.13.2"
  }
 },
 "nbformat": 4,
 "nbformat_minor": 2
}
