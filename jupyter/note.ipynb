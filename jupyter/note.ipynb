{
 "cells": [
  {
   "cell_type": "markdown",
   "metadata": {},
   "source": [
    "# preanalisis de los datos: conclusiones que vamos sacando:\n",
    "## verificacion del tipo de datos de cada columna:\n",
    "-invoice esta bien.\n",
    "-data debemos pasar a formato data\n",
    "-store_number = int\n",
    "-store_name = obj\n",
    "-store_location = obj necesitamos descomponer numero de columnas\n",
    "-contry_number =  pasar de float a int\n",
    "-contry= obj\n",
    "-category = float tal vez debemos pasar a int y deberia ser categoria_number/ tiene valores nulos que debemos rellanar o eliminar antes de cambiar el tipo de dato.\n",
    "-category_name = obj\n",
    "-vendedor_num= tal vez int (done realizado)\n",
    "-vendedor_name = obj\n",
    "-iterm_num = int\n",
    "-iterm_description = obj\n",
    "-pack= int\n",
    "-bottle_volume(ml)= int64  \n",
    "-state_bottle_cost = deberia ser float (done)\n",
    "-state_bottle_retail= object deberia ser float(done)\n",
    "-bottles_sold = int64  \n",
    "-sale(dollars) = object deberia ser float (done)\n",
    "-volume_sold(gallons) =float64\n"
   ]
  }
 ],
 "metadata": {
  "language_info": {
   "name": "python"
  }
 },
 "nbformat": 4,
 "nbformat_minor": 2
}
