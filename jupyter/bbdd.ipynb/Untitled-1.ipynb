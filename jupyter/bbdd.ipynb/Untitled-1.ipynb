{
 "cells": [
  {
   "cell_type": "code",
   "execution_count": 12,
   "id": "b0e0de30",
   "metadata": {},
   "outputs": [],
   "source": [
    "import pandas as pd\n",
    "\n",
    "import os \n",
    "from dotenv import load_dotenv\n",
    "load_dotenv()\n",
    "postgres_user= os.getenv(\"POSTGRES_USER\")\n",
    "postgres_key= os.getenv(\"POSTGRES_KEY\")\n",
    "import psycopg2\n"
   ]
  },
  {
   "cell_type": "code",
   "execution_count": null,
   "id": "1bda3760",
   "metadata": {},
   "outputs": [],
   "source": [
    "df = pd.read_parquet(\"../SALES_ANALYTIC/data_transformation/dataset_cleaned.parquet\")"
   ]
  },
  {
   "cell_type": "code",
   "execution_count": 5,
   "id": "71306893",
   "metadata": {},
   "outputs": [],
   "source": [
    "df.rename({'invoice/item_number':'invoice'},axis= 1, inplace= True)"
   ]
  },
  {
   "cell_type": "code",
   "execution_count": 6,
   "id": "f305e02f",
   "metadata": {},
   "outputs": [],
   "source": [
    "create_category= ''' CREATE TABLE \"Category\"(\n",
    "                        \"id\" INT NOT null PRIMARY KEY,\n",
    "                        \"name\" VARCHAR(100))'''\n",
    "\n",
    "create_vendor=''' CREATE TABLE \"Vendor\"(\n",
    "                        \"id\" INT NOT null PRIMARY KEY,\n",
    "                        \"name\" VARCHAR(100))'''\n",
    "\n",
    "create_county=''' CREATE TABLE \"Conty\"(\n",
    "                        \"id\" INT NOT null PRIMARY KEY,\n",
    "                        \"name\" VARCHAR(100))'''\n",
    "\n",
    "create_store=''' CREATE TABLE \"Store\"(\n",
    "                        \"id\" INT NOT null PRIMARY KEY,\n",
    "                        \"name\" VARCHAR(100))'''\n",
    "\n",
    "create_city=''' CREATE TABLE \"City\"(\n",
    "                        \"id\" INT NOT null PRIMARY KEY,\n",
    "                        \"name\" VARCHAR(100))'''\n",
    "\n",
    "create_item=''' CREATE TABLE \"Item\"(\n",
    "                        \"id\" INT NOT null PRIMARY KEY,\n",
    "                        \"name\" VARCHAR(100)),\n",
    "                        \"id_category\" INT,\n",
    "                        CONSTRAINT \"fk_category\"\n",
    "                            FOREIGN KEY (\"id_category\")\n",
    "                            REFERENCE \"Category\"(\"id\")\n",
    "                            '''\n",
    "\n",
    "create_location=''' CREATE TABLE \"LOCATION\"(\n",
    "                        \"id\" INT NOT null PRIMARY KEY,\n",
    "                        \"id_store\" INT,\n",
    "                        CONSTRAINT \"fk_store\"\n",
    "                            FOREIGN KEY (\"id_store\")\n",
    "                            REFERENCE \"Store\"(\"id\"),\n",
    "                        \"id_addres\" INT,\n",
    "                        CONSTRAINT \"fk_address\"\n",
    "                            FOREIGN KEY (\"id_address\")\n",
    "                            REFERENCE \"Address\"(\"id\"),\n",
    "                        \"id_city\" INT,\n",
    "                        CONSTRAINT \"fk_city\"\n",
    "                            FOREIGN KEY (\"id_city\")\n",
    "                            REFERENCE \"City\"(\"id\"),\n",
    "                        \"zip_code\" INT,\n",
    "                        \"latitude\" NUMERICAL,\n",
    "                        \"longitude\" NUMERICAL\n",
    "                            '''\n",
    "\n",
    "\n",
    "create_invoice=''' CREATE TABLE \"INVOICE\"(\n",
    "                        \"id\" INT NOT null PRIMARY KEY,\n",
    "                        \"invoice\" VARCHAR (100),\n",
    "                        \"id_location\" INT,\n",
    "                        CONSTRAINT \"fk_location\"\n",
    "                            FOREIGN KEY (\"id_location\")\n",
    "                            REFERENCE \"Location\"(\"id\"),\n",
    "                        \"date\" timestamp,\n",
    "                        \"id_item\" INT,\n",
    "                        CONSTRAINT \"fk_item\"\n",
    "                            FOREIGN KEY (\"id_item\")\n",
    "                            REFERENCE \"Item\"(\"id\"),\n",
    "                        \"pack\" INT,\n",
    "                        \"bottle_volume(ml)\" INT,\n",
    "                        \"state_bottle_cost\" NUMERICAL,\n",
    "                        \"state_bottle_retail\" NUMERICAL,\n",
    "                        \"bottles_sold\" INT,\n",
    "                        \"sale(dollars)\" NUMERICAL,\n",
    "                        \"volume_sold(ml)\" NUMERICAL,\n",
    "                        \"id_vendor\" INT,\n",
    "                        CONSTRAINT \"fk_vendor\"\n",
    "                            FOREIGN KEY (\"id_vendor\")\n",
    "                            REFERENCE \"Vendor\"(\"id\"),\n",
    "                        \"id_county\" INT,\n",
    "                        CONSTRAINT \"fk_county\"\n",
    "                            FOREIGN KEY (\"id_county\")\n",
    "                            REFERENCE \"County\"(\"id\")\n",
    "                            '''"
   ]
  },
  {
   "cell_type": "code",
   "execution_count": null,
   "id": "f0aa87be",
   "metadata": {},
   "outputs": [],
   "source": [
    "conn= psycopg2.connect(host='localhost',database= 'liquor_oiwa',\n",
    "                       user= 'postgres_user',\n",
    "                       password= 'postgres_key'\n",
    "                       )\n",
    "\n",
    "conn.autocommit= True\n",
    "cursor=conn.cursor()\n",
    "cursor.close()"
   ]
  }
 ],
 "metadata": {
  "kernelspec": {
   "display_name": "venvSales",
   "language": "python",
   "name": "python3"
  },
  "language_info": {
   "codemirror_mode": {
    "name": "ipython",
    "version": 3
   },
   "file_extension": ".py",
   "mimetype": "text/x-python",
   "name": "python",
   "nbconvert_exporter": "python",
   "pygments_lexer": "ipython3",
   "version": "3.13.2"
  }
 },
 "nbformat": 4,
 "nbformat_minor": 5
}
